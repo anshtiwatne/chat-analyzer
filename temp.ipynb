{
 "cells": [
  {
   "cell_type": "code",
   "execution_count": 5,
   "metadata": {},
   "outputs": [
    {
     "name": "stdout",
     "output_type": "stream",
     "text": [
      "['above', 'across', 'against', 'along', 'among', 'around', 'at', 'before', 'behind', 'below', 'beneath', 'beside', 'between', 'by', 'down', 'from', 'in', 'into', 'near', 'of', 'off', 'on', 'to', 'toward', 'under', 'upon', 'with and within']\n"
     ]
    }
   ],
   "source": [
    "s = \"above, across, against, along, among, around, at, before, behind, below, beneath, beside, between, by, down, from, in, into, near, of, off, on, to, toward, under, upon, with and within\"\n",
    "s = s.split(\", \")\n",
    "x = []\n",
    "[x.append(y) for y in s if y not in x]\n",
    "print(x)"
   ]
  },
  {
   "cell_type": "code",
   "execution_count": null,
   "metadata": {},
   "outputs": [],
   "source": []
  }
 ],
 "metadata": {
  "kernelspec": {
   "display_name": "Python 3.10.5 64-bit",
   "language": "python",
   "name": "python3"
  },
  "language_info": {
   "codemirror_mode": {
    "name": "ipython",
    "version": 3
   },
   "file_extension": ".py",
   "mimetype": "text/x-python",
   "name": "python",
   "nbconvert_exporter": "python",
   "pygments_lexer": "ipython3",
   "version": "3.10.5"
  },
  "orig_nbformat": 4,
  "vscode": {
   "interpreter": {
    "hash": "deab59f2a3181e77d47d44761870e0df2b8013e95fec7cd044dee94f17a4bb2c"
   }
  }
 },
 "nbformat": 4,
 "nbformat_minor": 2
}
